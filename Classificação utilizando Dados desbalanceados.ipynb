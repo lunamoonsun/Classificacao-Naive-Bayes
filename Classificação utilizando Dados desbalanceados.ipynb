{
 "cells": [
  {
   "cell_type": "markdown",
   "id": "a43d2a13",
   "metadata": {},
   "source": [
    "# 1. Classificação com dados desbalanceados"
   ]
  },
  {
   "cell_type": "code",
   "execution_count": 3,
   "id": "63198ee9",
   "metadata": {},
   "outputs": [],
   "source": [
    "import pandas as pd\n",
    "import random \n",
    "import numpy as np\n",
    "import seaborn as sns\n",
    "\n",
    "import warnings \n",
    "warnings.filterwarnings('ignore')\n",
    "\n",
    "import matplotlib.pyplot as plt\n",
    "%matplotlib inline"
   ]
  },
  {
   "cell_type": "code",
   "execution_count": 4,
   "id": "03220fcf",
   "metadata": {},
   "outputs": [],
   "source": [
    "# Carregamento da base de dados\n",
    "dados = pd.read_csv('credit_data.csv')"
   ]
  },
  {
   "cell_type": "code",
   "execution_count": 5,
   "id": "8cfb3285",
   "metadata": {},
   "outputs": [
    {
     "data": {
      "text/plain": [
       "(2000, 5)"
      ]
     },
     "execution_count": 5,
     "metadata": {},
     "output_type": "execute_result"
    }
   ],
   "source": [
    "# Tamanho: 2000 registros e 5 colunas\n",
    "\n",
    "dados.shape"
   ]
  },
  {
   "cell_type": "code",
   "execution_count": 6,
   "id": "77a42289",
   "metadata": {},
   "outputs": [
    {
     "data": {
      "text/html": [
       "<div>\n",
       "<style scoped>\n",
       "    .dataframe tbody tr th:only-of-type {\n",
       "        vertical-align: middle;\n",
       "    }\n",
       "\n",
       "    .dataframe tbody tr th {\n",
       "        vertical-align: top;\n",
       "    }\n",
       "\n",
       "    .dataframe thead th {\n",
       "        text-align: right;\n",
       "    }\n",
       "</style>\n",
       "<table border=\"1\" class=\"dataframe\">\n",
       "  <thead>\n",
       "    <tr style=\"text-align: right;\">\n",
       "      <th></th>\n",
       "      <th>i#clientid</th>\n",
       "      <th>income</th>\n",
       "      <th>age</th>\n",
       "      <th>loan</th>\n",
       "      <th>c#default</th>\n",
       "    </tr>\n",
       "  </thead>\n",
       "  <tbody>\n",
       "    <tr>\n",
       "      <th>0</th>\n",
       "      <td>1</td>\n",
       "      <td>66155.925095</td>\n",
       "      <td>59.017015</td>\n",
       "      <td>8106.532131</td>\n",
       "      <td>0</td>\n",
       "    </tr>\n",
       "    <tr>\n",
       "      <th>1</th>\n",
       "      <td>2</td>\n",
       "      <td>34415.153966</td>\n",
       "      <td>48.117153</td>\n",
       "      <td>6564.745018</td>\n",
       "      <td>0</td>\n",
       "    </tr>\n",
       "    <tr>\n",
       "      <th>2</th>\n",
       "      <td>3</td>\n",
       "      <td>57317.170063</td>\n",
       "      <td>63.108049</td>\n",
       "      <td>8020.953296</td>\n",
       "      <td>0</td>\n",
       "    </tr>\n",
       "    <tr>\n",
       "      <th>3</th>\n",
       "      <td>4</td>\n",
       "      <td>42709.534201</td>\n",
       "      <td>45.751972</td>\n",
       "      <td>6103.642260</td>\n",
       "      <td>0</td>\n",
       "    </tr>\n",
       "    <tr>\n",
       "      <th>4</th>\n",
       "      <td>5</td>\n",
       "      <td>66952.688845</td>\n",
       "      <td>18.584336</td>\n",
       "      <td>8770.099235</td>\n",
       "      <td>1</td>\n",
       "    </tr>\n",
       "  </tbody>\n",
       "</table>\n",
       "</div>"
      ],
      "text/plain": [
       "   i#clientid        income        age         loan  c#default\n",
       "0           1  66155.925095  59.017015  8106.532131          0\n",
       "1           2  34415.153966  48.117153  6564.745018          0\n",
       "2           3  57317.170063  63.108049  8020.953296          0\n",
       "3           4  42709.534201  45.751972  6103.642260          0\n",
       "4           5  66952.688845  18.584336  8770.099235          1"
      ]
     },
     "execution_count": 6,
     "metadata": {},
     "output_type": "execute_result"
    }
   ],
   "source": [
    "# Observando\n",
    "# income = rendimento (renda)\n",
    "# age = idade\n",
    "# loan = empréstimo (divida)\n",
    "# c#default = consideração se o cliente pagou ou não o empréstimo \n",
    "\n",
    "dados.head()"
   ]
  },
  {
   "cell_type": "code",
   "execution_count": 7,
   "id": "5b75e679",
   "metadata": {},
   "outputs": [
    {
     "data": {
      "text/plain": [
       "i#clientid    0\n",
       "income        0\n",
       "age           3\n",
       "loan          0\n",
       "c#default     0\n",
       "dtype: int64"
      ]
     },
     "execution_count": 7,
     "metadata": {},
     "output_type": "execute_result"
    }
   ],
   "source": [
    "dados.isnull().sum() \n",
    "\n",
    "# Observa-se que 3 clientes possuem dados faltando nas idades, logo vamos apagar os registros pois não afetam diretamente \n",
    "# a base de dados"
   ]
  },
  {
   "cell_type": "code",
   "execution_count": 8,
   "id": "2268e43a",
   "metadata": {},
   "outputs": [],
   "source": [
    "dados.dropna(inplace=True)\n",
    "\n",
    "# Tirando os registros que possuem valores NaN ou vazio"
   ]
  },
  {
   "cell_type": "code",
   "execution_count": 9,
   "id": "66bfbee6",
   "metadata": {},
   "outputs": [
    {
     "data": {
      "text/plain": [
       "i#clientid    0\n",
       "income        0\n",
       "age           0\n",
       "loan          0\n",
       "c#default     0\n",
       "dtype: int64"
      ]
     },
     "execution_count": 9,
     "metadata": {},
     "output_type": "execute_result"
    }
   ],
   "source": [
    "dados.isnull().sum() \n",
    "\n",
    "# Verificando"
   ]
  },
  {
   "cell_type": "code",
   "execution_count": 10,
   "id": "c7418d69",
   "metadata": {},
   "outputs": [
    {
     "data": {
      "text/plain": [
       "<AxesSubplot:xlabel='c#default', ylabel='count'>"
      ]
     },
     "execution_count": 10,
     "metadata": {},
     "output_type": "execute_result"
    },
    {
     "data": {
      "image/png": "[encoded data removed]",
      "text/plain": [
       "<Figure size 432x288 with 1 Axes>"
      ]
     },
     "metadata": {
      "needs_background": "light"
     },
     "output_type": "display_data"
    }
   ],
   "source": [
    "sns.countplot(dados['c#default'])\n",
    "\n",
    "# Observando a contagem dos valores presentes para cada variável na coluna c#default"
   ]
  },
  {
   "cell_type": "markdown",
   "id": "07e93cc7",
   "metadata": {},
   "source": [
    "Percebe-se que existe uma base de dados desbalanceados e isso pode influenciar alguns métodos de machine learning, causando um overfitting ou underfitting. "
   ]
  },
  {
   "cell_type": "markdown",
   "id": "d6b37a47",
   "metadata": {},
   "source": [
    "Algumas técnicas estatísticas utilizando amostragem pode trabalhar esse tipo de situação. "
   ]
  },
  {
   "cell_type": "code",
   "execution_count": 11,
   "id": "42c6ea3e",
   "metadata": {},
   "outputs": [],
   "source": [
    "# Para isso, vamos usar a biblioteca scikit-learn\n",
    "X = dados.drop(['c#default','i#clientid'], axis=1)\n",
    "y = dados['c#default']\n",
    "\n",
    "# Ou\n",
    "# X = dados.iloc[:, 1:4].values\n",
    "# y = dados.iloc[:, 4].values"
   ]
  },
  {
   "cell_type": "markdown",
   "id": "787c7e9d",
   "metadata": {},
   "source": [
    "### Dividindo em base de dados de treino e teste/Validação"
   ]
  },
  {
   "cell_type": "code",
   "execution_count": 12,
   "id": "dff3ee0a",
   "metadata": {},
   "outputs": [],
   "source": [
    "from sklearn.model_selection import train_test_split \n",
    "\n",
    "# Realiza uma amostragem estratificada"
   ]
  },
  {
   "cell_type": "code",
   "execution_count": 13,
   "id": "bcb12555",
   "metadata": {},
   "outputs": [],
   "source": [
    "X_train, X_test, y_train, y_test = train_test_split(X, y, test_size=0.2, stratify = y) \n",
    "\n",
    "# Realizando uma amostragem estratificada mantendo a proporção"
   ]
  },
  {
   "cell_type": "code",
   "execution_count": 14,
   "id": "40c55b06",
   "metadata": {},
   "outputs": [
    {
     "data": {
      "text/plain": [
       "((1597, 3), (1597,))"
      ]
     },
     "execution_count": 14,
     "metadata": {},
     "output_type": "execute_result"
    }
   ],
   "source": [
    "X_train.shape, y_train.shape # 80% da base de dados"
   ]
  },
  {
   "cell_type": "code",
   "execution_count": 15,
   "id": "ab2b0ee3",
   "metadata": {},
   "outputs": [
    {
     "data": {
      "text/plain": [
       "((400, 3), (400,))"
      ]
     },
     "execution_count": 15,
     "metadata": {},
     "output_type": "execute_result"
    }
   ],
   "source": [
    "X_test.shape, y_test.shape # 20% na base de teste"
   ]
  },
  {
   "cell_type": "code",
   "execution_count": 16,
   "id": "232aa15e",
   "metadata": {},
   "outputs": [
    {
     "data": {
      "text/plain": [
       "(array([0, 1], dtype=int64), array([1714,  283], dtype=int64))"
      ]
     },
     "execution_count": 16,
     "metadata": {},
     "output_type": "execute_result"
    }
   ],
   "source": [
    "np.unique(y, return_counts=True) # Avaliando a quantidade de valores existentes para cada classe"
   ]
  },
  {
   "cell_type": "code",
   "execution_count": 17,
   "id": "ad99c3c0",
   "metadata": {},
   "outputs": [
    {
     "data": {
      "text/plain": [
       "85.82874311467201"
      ]
     },
     "execution_count": 17,
     "metadata": {},
     "output_type": "execute_result"
    }
   ],
   "source": [
    "(1714/len(dados))*100 # Representatividade em (%) de quantos clientes pagam o empréstimos referentes na base"
   ]
  },
  {
   "cell_type": "code",
   "execution_count": 18,
   "id": "4c9aed8d",
   "metadata": {},
   "outputs": [
    {
     "data": {
      "text/plain": [
       "14.171256885327994"
      ]
     },
     "execution_count": 18,
     "metadata": {},
     "output_type": "execute_result"
    }
   ],
   "source": [
    "(283/len(dados))*100 # Representatividade em (%) de quantos clientes da base de dados que não pagam o empréstimo"
   ]
  },
  {
   "cell_type": "code",
   "execution_count": 19,
   "id": "b557fa75",
   "metadata": {},
   "outputs": [
    {
     "data": {
      "text/plain": [
       "(array([0, 1], dtype=int64), array([1371,  226], dtype=int64))"
      ]
     },
     "execution_count": 19,
     "metadata": {},
     "output_type": "execute_result"
    }
   ],
   "source": [
    "# Verificando se os valores para as amostras após a separação aleatória dos dados são porporcionais aos valores citados \n",
    "# anteriormente\n",
    "\n",
    "np.unique(y_train, return_counts=True)"
   ]
  },
  {
   "cell_type": "code",
   "execution_count": 20,
   "id": "42964edb",
   "metadata": {},
   "outputs": [
    {
     "data": {
      "text/plain": [
       "85.84846587351284"
      ]
     },
     "execution_count": 20,
     "metadata": {},
     "output_type": "execute_result"
    }
   ],
   "source": [
    "(1371/len(y_train))*100 # Representatividade em (%) de quantos clientes pagam o empréstimos referentes na base de treinamento"
   ]
  },
  {
   "cell_type": "code",
   "execution_count": 21,
   "id": "d25aaf35",
   "metadata": {},
   "outputs": [
    {
     "data": {
      "text/plain": [
       "14.151534126487164"
      ]
     },
     "execution_count": 21,
     "metadata": {},
     "output_type": "execute_result"
    }
   ],
   "source": [
    "(226/len(y_train))*100 # Representatividade em (%) de quantos clientes da base de dados de treinamento que não pagam o empréstimo"
   ]
  },
  {
   "cell_type": "markdown",
   "id": "26d8f15e",
   "metadata": {},
   "source": [
    "É possível verificar que a amostra estratificada foi realizada corretamente, separando os dados porporcionalmente."
   ]
  },
  {
   "cell_type": "markdown",
   "id": "7276a69d",
   "metadata": {},
   "source": [
    "### Classificação com Naive Bayes"
   ]
  },
  {
   "cell_type": "code",
   "execution_count": 22,
   "id": "34dbc80f",
   "metadata": {},
   "outputs": [],
   "source": [
    "from sklearn.naive_bayes import GaussianNB"
   ]
  },
  {
   "cell_type": "code",
   "execution_count": 23,
   "id": "1d1f2477",
   "metadata": {},
   "outputs": [
    {
     "data": {
      "text/html": [
       "<style>#sk-container-id-1 {color: black;}#sk-container-id-1 pre{padding: 0;}#sk-container-id-1 div.sk-toggleable {background-color: white;}#sk-container-id-1 label.sk-toggleable__label {cursor: pointer;display: block;width: 100%;margin-bottom: 0;padding: 0.3em;box-sizing: border-box;text-align: center;}#sk-container-id-1 label.sk-toggleable__label-arrow:before {content: \"▸\";float: left;margin-right: 0.25em;color: #696969;}#sk-container-id-1 label.sk-toggleable__label-arrow:hover:before {color: black;}#sk-container-id-1 div.sk-estimator:hover label.sk-toggleable__label-arrow:before {color: black;}#sk-container-id-1 div.sk-toggleable__content {max-height: 0;max-width: 0;overflow: hidden;text-align: left;background-color: #f0f8ff;}#sk-container-id-1 div.sk-toggleable__content pre {margin: 0.2em;color: black;border-radius: 0.25em;background-color: #f0f8ff;}#sk-container-id-1 input.sk-toggleable__control:checked~div.sk-toggleable__content {max-height: 200px;max-width: 100%;overflow: auto;}#sk-container-id-1 input.sk-toggleable__control:checked~label.sk-toggleable__label-arrow:before {content: \"▾\";}#sk-container-id-1 div.sk-estimator input.sk-toggleable__control:checked~label.sk-toggleable__label {background-color: #d4ebff;}#sk-container-id-1 div.sk-label input.sk-toggleable__control:checked~label.sk-toggleable__label {background-color: #d4ebff;}#sk-container-id-1 input.sk-hidden--visually {border: 0;clip: rect(1px 1px 1px 1px);clip: rect(1px, 1px, 1px, 1px);height: 1px;margin: -1px;overflow: hidden;padding: 0;position: absolute;width: 1px;}#sk-container-id-1 div.sk-estimator {font-family: monospace;background-color: #f0f8ff;border: 1px dotted black;border-radius: 0.25em;box-sizing: border-box;margin-bottom: 0.5em;}#sk-container-id-1 div.sk-estimator:hover {background-color: #d4ebff;}#sk-container-id-1 div.sk-parallel-item::after {content: \"\";width: 100%;border-bottom: 1px solid gray;flex-grow: 1;}#sk-container-id-1 div.sk-label:hover label.sk-toggleable__label {background-color: #d4ebff;}#sk-container-id-1 div.sk-serial::before {content: \"\";position: absolute;border-left: 1px solid gray;box-sizing: border-box;top: 0;bottom: 0;left: 50%;z-index: 0;}#sk-container-id-1 div.sk-serial {display: flex;flex-direction: column;align-items: center;background-color: white;padding-right: 0.2em;padding-left: 0.2em;position: relative;}#sk-container-id-1 div.sk-item {position: relative;z-index: 1;}#sk-container-id-1 div.sk-parallel {display: flex;align-items: stretch;justify-content: center;background-color: white;position: relative;}#sk-container-id-1 div.sk-item::before, #sk-container-id-1 div.sk-parallel-item::before {content: \"\";position: absolute;border-left: 1px solid gray;box-sizing: border-box;top: 0;bottom: 0;left: 50%;z-index: -1;}#sk-container-id-1 div.sk-parallel-item {display: flex;flex-direction: column;z-index: 1;position: relative;background-color: white;}#sk-container-id-1 div.sk-parallel-item:first-child::after {align-self: flex-end;width: 50%;}#sk-container-id-1 div.sk-parallel-item:last-child::after {align-self: flex-start;width: 50%;}#sk-container-id-1 div.sk-parallel-item:only-child::after {width: 0;}#sk-container-id-1 div.sk-dashed-wrapped {border: 1px dashed gray;margin: 0 0.4em 0.5em 0.4em;box-sizing: border-box;padding-bottom: 0.4em;background-color: white;}#sk-container-id-1 div.sk-label label {font-family: monospace;font-weight: bold;display: inline-block;line-height: 1.2em;}#sk-container-id-1 div.sk-label-container {text-align: center;}#sk-container-id-1 div.sk-container {/* jupyter's `normalize.less` sets `[hidden] { display: none; }` but bootstrap.min.css set `[hidden] { display: none !important; }` so we also need the `!important` here to be able to override the default hidden behavior on the sphinx rendered scikit-learn.org. See: https://github.com/scikit-learn/scikit-learn/issues/21755 */display: inline-block !important;position: relative;}#sk-container-id-1 div.sk-text-repr-fallback {display: none;}</style><div id=\"sk-container-id-1\" class=\"sk-top-container\"><div class=\"sk-text-repr-fallback\"><pre>GaussianNB()</pre><b>In a Jupyter environment, please rerun this cell to show the HTML representation or trust the notebook. <br />On GitHub, the HTML representation is unable to render, please try loading this page with nbviewer.org.</b></div><div class=\"sk-container\" hidden><div class=\"sk-item\"><div class=\"sk-estimator sk-toggleable\"><input class=\"sk-toggleable__control sk-hidden--visually\" id=\"sk-estimator-id-1\" type=\"checkbox\" checked><label for=\"sk-estimator-id-1\" class=\"sk-toggleable__label sk-toggleable__label-arrow\">GaussianNB</label><div class=\"sk-toggleable__content\"><pre>GaussianNB()</pre></div></div></div></div></div>"
      ],
      "text/plain": [
       "GaussianNB()"
      ]
     },
     "execution_count": 23,
     "metadata": {},
     "output_type": "execute_result"
    }
   ],
   "source": [
    "modelo = GaussianNB()\n",
    "\n",
    "modelo.fit(X_train, y_train) # Treiando o algoritmo com a base de dados de treinamento"
   ]
  },
  {
   "cell_type": "code",
   "execution_count": 24,
   "id": "6b71e131",
   "metadata": {},
   "outputs": [],
   "source": [
    "previsoes = modelo.predict(X_test) # Prevendo o modelo pela base de teste"
   ]
  },
  {
   "cell_type": "code",
   "execution_count": 25,
   "id": "5548591c",
   "metadata": {},
   "outputs": [
    {
     "data": {
      "text/plain": [
       "0.93"
      ]
     },
     "execution_count": 25,
     "metadata": {},
     "output_type": "execute_result"
    }
   ],
   "source": [
    "# Comparando os modelos\n",
    "\n",
    "from sklearn.metrics import accuracy_score\n",
    "\n",
    "accuracy_score(previsoes, y_test) # Resultado de precisão de 92%"
   ]
  },
  {
   "cell_type": "code",
   "execution_count": 26,
   "id": "d993c737",
   "metadata": {},
   "outputs": [],
   "source": [
    "# Gerando uma matriz de confusão\n",
    "\n",
    "from sklearn.metrics import confusion_matrix\n",
    "\n",
    "cm = confusion_matrix(previsoes, y_test)"
   ]
  },
  {
   "cell_type": "code",
   "execution_count": 27,
   "id": "b4449e83",
   "metadata": {},
   "outputs": [
    {
     "data": {
      "text/plain": [
       "Text(0.5, 1.0, 'Avaliando o modelo Naive Bayes')"
      ]
     },
     "execution_count": 27,
     "metadata": {},
     "output_type": "execute_result"
    },
    {
     "data": {
      "image/png": "[encoded data removed]",
      "text/plain": [
       "<Figure size 432x288 with 2 Axes>"
      ]
     },
     "metadata": {
      "needs_background": "light"
     },
     "output_type": "display_data"
    }
   ],
   "source": [
    "sns.heatmap(cm, annot=True)\n",
    "\n",
    "plt.title('Avaliando o modelo Naive Bayes')"
   ]
  },
  {
   "cell_type": "markdown",
   "id": "d7ac7864",
   "metadata": {},
   "source": [
    "- Vedadeiros positivos: 337 | Falso Negativo:28\n",
    "-     Falso positivo: 6     | Verdadeiro Negativo: 29"
   ]
  },
  {
   "cell_type": "code",
   "execution_count": 28,
   "id": "aea49cc3",
   "metadata": {},
   "outputs": [
    {
     "data": {
      "text/plain": [
       "0.9172932330827067"
      ]
     },
     "execution_count": 28,
     "metadata": {},
     "output_type": "execute_result"
    }
   ],
   "source": [
    "(337+29)/(336+28+6+29) # Vai dar o valor aproximado de cálculo de desempenho"
   ]
  },
  {
   "cell_type": "code",
   "execution_count": 29,
   "id": "bb200565",
   "metadata": {},
   "outputs": [
    {
     "data": {
      "text/plain": [
       "array([[339,  24],\n",
       "       [  4,  33]], dtype=int64)"
      ]
     },
     "execution_count": 29,
     "metadata": {},
     "output_type": "execute_result"
    }
   ],
   "source": [
    "cm"
   ]
  },
  {
   "cell_type": "code",
   "execution_count": 30,
   "id": "b5902af2",
   "metadata": {},
   "outputs": [
    {
     "data": {
      "text/plain": [
       "0.9232876712328767"
      ]
     },
     "execution_count": 30,
     "metadata": {},
     "output_type": "execute_result"
    }
   ],
   "source": [
    "# Percentual de acerto para aqueles que pagam empréstimo:\n",
    "(337)/(337+28)\n",
    "\n",
    "# É possivel observar melhor desempenho pois possuem mais dados que caracterizam o valor predito"
   ]
  },
  {
   "cell_type": "code",
   "execution_count": 31,
   "id": "2033614f",
   "metadata": {},
   "outputs": [
    {
     "data": {
      "text/plain": [
       "0.8285714285714286"
      ]
     },
     "execution_count": 31,
     "metadata": {},
     "output_type": "execute_result"
    }
   ],
   "source": [
    "# Percentual de acerto para aqueles que não pagam o empréstimo\n",
    "(29)/(29+6)"
   ]
  },
  {
   "cell_type": "code",
   "execution_count": 32,
   "id": "7ce5aecf",
   "metadata": {},
   "outputs": [
    {
     "data": {
      "text/plain": [
       "180.0"
      ]
     },
     "execution_count": 32,
     "metadata": {},
     "output_type": "execute_result"
    }
   ],
   "source": [
    "# Exemplo:\n",
    "# O banco possue perda de R$ 5.000,00 \n",
    "# O banco possue uma lista de clientes não pagadores: 1000\n",
    "\n",
    "(1000*18)/100 # 18 é o complemento de 82% de não pagar\n",
    "\n",
    "# Logo, a cada 1000 clientes que solicitam empréstimo, 180 clientes vai conseguir "
   ]
  },
  {
   "cell_type": "code",
   "execution_count": 33,
   "id": "8d8419d6",
   "metadata": {},
   "outputs": [
    {
     "data": {
      "text/plain": [
       "'Prejuízo estimado 900000 que o sistema está dando, pois só conseguiu identificar 82% dos casos de clientes que não são bons pagadores'"
      ]
     },
     "execution_count": 33,
     "metadata": {},
     "output_type": "execute_result"
    }
   ],
   "source": [
    "(f'Prejuízo estimado {180 * 5000} que o sistema está dando, pois só conseguiu identificar 82% dos casos de clientes que não são bons pagadores') # Prejuízo estimado"
   ]
  },
  {
   "cell_type": "markdown",
   "id": "38b68726",
   "metadata": {},
   "source": [
    "Então, é necessário aumentar o percentual de acerto daqueles que não pagam o empréstimo que está atualmente em 82%."
   ]
  },
  {
   "cell_type": "markdown",
   "id": "cac3e054",
   "metadata": {},
   "source": [
    "### Implementação da Subamostragem (undersampling) - Algoritmo Tomek links "
   ]
  },
  {
   "cell_type": "code",
   "execution_count": 34,
   "id": "5c5ebcdc",
   "metadata": {},
   "outputs": [
    {
     "name": "stdout",
     "output_type": "stream",
     "text": [
      "Requirement already satisfied: imbalanced-learn in c:\\users\\francisco\\anaconda3\\lib\\site-packages (0.11.0)\n",
      "Requirement already satisfied: scipy>=1.5.0 in c:\\users\\francisco\\anaconda3\\lib\\site-packages (from imbalanced-learn) (1.6.2)\n",
      "Requirement already satisfied: joblib>=1.1.1 in c:\\users\\francisco\\anaconda3\\lib\\site-packages (from imbalanced-learn) (1.3.2)\n",
      "Requirement already satisfied: scikit-learn>=1.0.2 in c:\\users\\francisco\\anaconda3\\lib\\site-packages (from imbalanced-learn) (1.3.1)\n",
      "Requirement already satisfied: numpy>=1.17.3 in c:\\users\\francisco\\anaconda3\\lib\\site-packages (from imbalanced-learn) (1.22.1)\n",
      "Requirement already satisfied: threadpoolctl>=2.0.0 in c:\\users\\francisco\\anaconda3\\lib\\site-packages (from imbalanced-learn) (2.1.0)\n"
     ]
    }
   ],
   "source": [
    "!pip install -U imbalanced-learn"
   ]
  },
  {
   "cell_type": "code",
   "execution_count": 35,
   "id": "b569e33b",
   "metadata": {},
   "outputs": [],
   "source": [
    "from imblearn.under_sampling import TomekLinks"
   ]
  },
  {
   "cell_type": "code",
   "execution_count": 36,
   "id": "a3cbf299",
   "metadata": {},
   "outputs": [],
   "source": [
    "tl = TomekLinks(sampling_strategy='majority') # ratio='majority' apaga somente registro da classe majoritária\n",
    "\n",
    "X_under, y_under = tl.fit_resample(X, y)"
   ]
  },
  {
   "cell_type": "code",
   "execution_count": 37,
   "id": "0611a77c",
   "metadata": {},
   "outputs": [
    {
     "data": {
      "text/plain": [
       "((1897, 3), (1897,))"
      ]
     },
     "execution_count": 37,
     "metadata": {},
     "output_type": "execute_result"
    }
   ],
   "source": [
    "X_under.shape, y_under.shape \n",
    "\n",
    "# Nota-se que diminuiu, apagando da classe majoritária"
   ]
  },
  {
   "cell_type": "code",
   "execution_count": 38,
   "id": "4cd639d8",
   "metadata": {},
   "outputs": [
    {
     "data": {
      "text/plain": [
       "(array([0, 1], dtype=int64), array([1714,  283], dtype=int64))"
      ]
     },
     "execution_count": 38,
     "metadata": {},
     "output_type": "execute_result"
    }
   ],
   "source": [
    "np.unique(y, return_counts=True) # Valores originais da base de dados"
   ]
  },
  {
   "cell_type": "code",
   "execution_count": 39,
   "id": "d359c7fa",
   "metadata": {},
   "outputs": [
    {
     "data": {
      "text/plain": [
       "(array([0, 1], dtype=int64), array([1614,  283], dtype=int64))"
      ]
     },
     "execution_count": 39,
     "metadata": {},
     "output_type": "execute_result"
    }
   ],
   "source": [
    "np.unique(y_under, return_counts=True) # Valores atuais após a transformação com o TomekLink"
   ]
  },
  {
   "cell_type": "code",
   "execution_count": 40,
   "id": "67ec37b3",
   "metadata": {},
   "outputs": [],
   "source": [
    "# Divisão entre base treinamento e teste\n",
    "\n",
    "X_train_u, X_test_u, y_train_u, y_test_u = train_test_split(X_under, y_under, test_size=0.2, stratify=y_under)"
   ]
  },
  {
   "cell_type": "code",
   "execution_count": 41,
   "id": "eeca4eaa",
   "metadata": {},
   "outputs": [
    {
     "data": {
      "text/plain": [
       "((1517, 3), (1517,))"
      ]
     },
     "execution_count": 41,
     "metadata": {},
     "output_type": "execute_result"
    }
   ],
   "source": [
    "X_train_u.shape, y_train_u.shape"
   ]
  },
  {
   "cell_type": "code",
   "execution_count": 42,
   "id": "be1b5fca",
   "metadata": {},
   "outputs": [
    {
     "data": {
      "text/plain": [
       "((380, 3), (380,))"
      ]
     },
     "execution_count": 42,
     "metadata": {},
     "output_type": "execute_result"
    }
   ],
   "source": [
    "X_test_u.shape, y_test_u.shape"
   ]
  },
  {
   "cell_type": "code",
   "execution_count": 43,
   "id": "2ef2d8fe",
   "metadata": {},
   "outputs": [
    {
     "data": {
      "text/plain": [
       "0.9421052631578948"
      ]
     },
     "execution_count": 43,
     "metadata": {},
     "output_type": "execute_result"
    }
   ],
   "source": [
    "modelo_u = GaussianNB()\n",
    "\n",
    "modelo_u.fit(X_train_u, y_train_u)\n",
    "previsoes_u = modelo_u.predict(X_test_u)\n",
    "\n",
    "accuracy_score(previsoes_u, y_test_u)"
   ]
  },
  {
   "cell_type": "code",
   "execution_count": 44,
   "id": "090b7451",
   "metadata": {},
   "outputs": [
    {
     "data": {
      "text/plain": [
       "array([[319,  18],\n",
       "       [  4,  39]], dtype=int64)"
      ]
     },
     "execution_count": 44,
     "metadata": {},
     "output_type": "execute_result"
    }
   ],
   "source": [
    "# Matriz de confusão após a mudança \n",
    "\n",
    "cm_u = confusion_matrix(previsoes_u, y_test_u)\n",
    "cm_u"
   ]
  },
  {
   "cell_type": "code",
   "execution_count": 45,
   "id": "7f8ee14c",
   "metadata": {},
   "outputs": [
    {
     "data": {
      "text/plain": [
       "0.9522388059701492"
      ]
     },
     "execution_count": 45,
     "metadata": {},
     "output_type": "execute_result"
    }
   ],
   "source": [
    "(319) / (319+16) # Acurácia para determinar os que vai conseguir o empréstimo\n",
    "\n",
    "# Acertou 319 e errou 16, somando o total vai ser 335\n",
    "# Acertos foram: 319 em porcentagem é -> (319/335)*100 -> 95,22%"
   ]
  },
  {
   "cell_type": "code",
   "execution_count": 46,
   "id": "06374ac3",
   "metadata": {},
   "outputs": [
    {
     "data": {
      "text/plain": [
       "0.9111111111111111"
      ]
     },
     "execution_count": 46,
     "metadata": {},
     "output_type": "execute_result"
    }
   ],
   "source": [
    "(41) / (41+4) # Acurácia para determinar os que não vai conseguir o empréstimo\n",
    "\n",
    "# Acertou 41 e errou 4, somando o total de dados foram: 45\n",
    "# Acertos foram: 41 em percentagem é -> (41/41+4)*100 -> 91,11% "
   ]
  },
  {
   "cell_type": "markdown",
   "id": "5ffd1140",
   "metadata": {},
   "source": [
    "Percebe-se que com a técnica o modelo conseguiu alcançar melhores desempenhos para identificação das pessoas que vai conseguir o empréstimo e também na identificação das pessoas que não vão conseguir o empréstimo. "
   ]
  },
  {
   "cell_type": "markdown",
   "id": "d16891d4",
   "metadata": {},
   "source": [
    "## Sobreamostragem (oversampling) - Smote"
   ]
  },
  {
   "cell_type": "code",
   "execution_count": 47,
   "id": "f144eb7e",
   "metadata": {},
   "outputs": [],
   "source": [
    "from imblearn.over_sampling import SMOTE"
   ]
  },
  {
   "cell_type": "code",
   "execution_count": 50,
   "id": "edd34188",
   "metadata": {},
   "outputs": [],
   "source": [
    "smote = SMOTE(sampling_strategy='minority')\n",
    "\n",
    "X_over, y_over = smote.fit_resample(X, y)"
   ]
  },
  {
   "cell_type": "code",
   "execution_count": 51,
   "id": "a03cc2e2",
   "metadata": {},
   "outputs": [
    {
     "data": {
      "text/plain": [
       "((3428, 3), (3428,))"
      ]
     },
     "execution_count": 51,
     "metadata": {},
     "output_type": "execute_result"
    }
   ],
   "source": [
    "X_over.shape, y_over.shape"
   ]
  },
  {
   "cell_type": "code",
   "execution_count": 52,
   "id": "473c6d1d",
   "metadata": {},
   "outputs": [
    {
     "data": {
      "text/plain": [
       "(array([0, 1], dtype=int64), array([1714,  283], dtype=int64))"
      ]
     },
     "execution_count": 52,
     "metadata": {},
     "output_type": "execute_result"
    }
   ],
   "source": [
    "np.unique(y, return_counts=True) # Registros anteriores antes do oversampling"
   ]
  },
  {
   "cell_type": "code",
   "execution_count": 54,
   "id": "c2c455ba",
   "metadata": {},
   "outputs": [
    {
     "data": {
      "text/plain": [
       "(array([0, 1], dtype=int64), array([1714, 1714], dtype=int64))"
      ]
     },
     "execution_count": 54,
     "metadata": {},
     "output_type": "execute_result"
    }
   ],
   "source": [
    "np.unique(y_over, return_counts=True) # Registros depois do oversampling"
   ]
  },
  {
   "cell_type": "code",
   "execution_count": 55,
   "id": "7a466869",
   "metadata": {},
   "outputs": [],
   "source": [
    "X_train_o, X_test_o, y_train_o, y_test_o = train_test_split(X_over, y_over, test_size=0.2, stratify=y_over)"
   ]
  },
  {
   "cell_type": "code",
   "execution_count": 56,
   "id": "cb8dd047",
   "metadata": {},
   "outputs": [
    {
     "data": {
      "text/plain": [
       "((2742, 3), (686, 3))"
      ]
     },
     "execution_count": 56,
     "metadata": {},
     "output_type": "execute_result"
    }
   ],
   "source": [
    "X_train_o.shape, X_test_o.shape"
   ]
  },
  {
   "cell_type": "code",
   "execution_count": 57,
   "id": "8f8adb6c",
   "metadata": {},
   "outputs": [
    {
     "data": {
      "text/html": [
       "<style>#sk-container-id-2 {color: black;}#sk-container-id-2 pre{padding: 0;}#sk-container-id-2 div.sk-toggleable {background-color: white;}#sk-container-id-2 label.sk-toggleable__label {cursor: pointer;display: block;width: 100%;margin-bottom: 0;padding: 0.3em;box-sizing: border-box;text-align: center;}#sk-container-id-2 label.sk-toggleable__label-arrow:before {content: \"▸\";float: left;margin-right: 0.25em;color: #696969;}#sk-container-id-2 label.sk-toggleable__label-arrow:hover:before {color: black;}#sk-container-id-2 div.sk-estimator:hover label.sk-toggleable__label-arrow:before {color: black;}#sk-container-id-2 div.sk-toggleable__content {max-height: 0;max-width: 0;overflow: hidden;text-align: left;background-color: #f0f8ff;}#sk-container-id-2 div.sk-toggleable__content pre {margin: 0.2em;color: black;border-radius: 0.25em;background-color: #f0f8ff;}#sk-container-id-2 input.sk-toggleable__control:checked~div.sk-toggleable__content {max-height: 200px;max-width: 100%;overflow: auto;}#sk-container-id-2 input.sk-toggleable__control:checked~label.sk-toggleable__label-arrow:before {content: \"▾\";}#sk-container-id-2 div.sk-estimator input.sk-toggleable__control:checked~label.sk-toggleable__label {background-color: #d4ebff;}#sk-container-id-2 div.sk-label input.sk-toggleable__control:checked~label.sk-toggleable__label {background-color: #d4ebff;}#sk-container-id-2 input.sk-hidden--visually {border: 0;clip: rect(1px 1px 1px 1px);clip: rect(1px, 1px, 1px, 1px);height: 1px;margin: -1px;overflow: hidden;padding: 0;position: absolute;width: 1px;}#sk-container-id-2 div.sk-estimator {font-family: monospace;background-color: #f0f8ff;border: 1px dotted black;border-radius: 0.25em;box-sizing: border-box;margin-bottom: 0.5em;}#sk-container-id-2 div.sk-estimator:hover {background-color: #d4ebff;}#sk-container-id-2 div.sk-parallel-item::after {content: \"\";width: 100%;border-bottom: 1px solid gray;flex-grow: 1;}#sk-container-id-2 div.sk-label:hover label.sk-toggleable__label {background-color: #d4ebff;}#sk-container-id-2 div.sk-serial::before {content: \"\";position: absolute;border-left: 1px solid gray;box-sizing: border-box;top: 0;bottom: 0;left: 50%;z-index: 0;}#sk-container-id-2 div.sk-serial {display: flex;flex-direction: column;align-items: center;background-color: white;padding-right: 0.2em;padding-left: 0.2em;position: relative;}#sk-container-id-2 div.sk-item {position: relative;z-index: 1;}#sk-container-id-2 div.sk-parallel {display: flex;align-items: stretch;justify-content: center;background-color: white;position: relative;}#sk-container-id-2 div.sk-item::before, #sk-container-id-2 div.sk-parallel-item::before {content: \"\";position: absolute;border-left: 1px solid gray;box-sizing: border-box;top: 0;bottom: 0;left: 50%;z-index: -1;}#sk-container-id-2 div.sk-parallel-item {display: flex;flex-direction: column;z-index: 1;position: relative;background-color: white;}#sk-container-id-2 div.sk-parallel-item:first-child::after {align-self: flex-end;width: 50%;}#sk-container-id-2 div.sk-parallel-item:last-child::after {align-self: flex-start;width: 50%;}#sk-container-id-2 div.sk-parallel-item:only-child::after {width: 0;}#sk-container-id-2 div.sk-dashed-wrapped {border: 1px dashed gray;margin: 0 0.4em 0.5em 0.4em;box-sizing: border-box;padding-bottom: 0.4em;background-color: white;}#sk-container-id-2 div.sk-label label {font-family: monospace;font-weight: bold;display: inline-block;line-height: 1.2em;}#sk-container-id-2 div.sk-label-container {text-align: center;}#sk-container-id-2 div.sk-container {/* jupyter's `normalize.less` sets `[hidden] { display: none; }` but bootstrap.min.css set `[hidden] { display: none !important; }` so we also need the `!important` here to be able to override the default hidden behavior on the sphinx rendered scikit-learn.org. See: https://github.com/scikit-learn/scikit-learn/issues/21755 */display: inline-block !important;position: relative;}#sk-container-id-2 div.sk-text-repr-fallback {display: none;}</style><div id=\"sk-container-id-2\" class=\"sk-top-container\"><div class=\"sk-text-repr-fallback\"><pre>GaussianNB()</pre><b>In a Jupyter environment, please rerun this cell to show the HTML representation or trust the notebook. <br />On GitHub, the HTML representation is unable to render, please try loading this page with nbviewer.org.</b></div><div class=\"sk-container\" hidden><div class=\"sk-item\"><div class=\"sk-estimator sk-toggleable\"><input class=\"sk-toggleable__control sk-hidden--visually\" id=\"sk-estimator-id-2\" type=\"checkbox\" checked><label for=\"sk-estimator-id-2\" class=\"sk-toggleable__label sk-toggleable__label-arrow\">GaussianNB</label><div class=\"sk-toggleable__content\"><pre>GaussianNB()</pre></div></div></div></div></div>"
      ],
      "text/plain": [
       "GaussianNB()"
      ]
     },
     "execution_count": 57,
     "metadata": {},
     "output_type": "execute_result"
    }
   ],
   "source": [
    "modelo_o = GaussianNB()\n",
    "modelo_o.fit(X_train_o, y_train_o)"
   ]
  },
  {
   "cell_type": "code",
   "execution_count": 58,
   "id": "fb1a176e",
   "metadata": {},
   "outputs": [
    {
     "data": {
      "text/plain": [
       "0.9183673469387755"
      ]
     },
     "execution_count": 58,
     "metadata": {},
     "output_type": "execute_result"
    }
   ],
   "source": [
    "previsoes_o = modelo_o.predict(X_test_o)\n",
    "accuracy_score(previsoes_o, y_test_o)"
   ]
  },
  {
   "cell_type": "code",
   "execution_count": 60,
   "id": "d9dd0285",
   "metadata": {},
   "outputs": [
    {
     "data": {
      "text/plain": [
       "array([[302,  15],\n",
       "       [ 41, 328]], dtype=int64)"
      ]
     },
     "execution_count": 60,
     "metadata": {},
     "output_type": "execute_result"
    }
   ],
   "source": [
    "cm_o = confusion_matrix(previsoes_o, y_test_o)\n",
    "cm_o"
   ]
  },
  {
   "cell_type": "code",
   "execution_count": 64,
   "id": "d0da4400",
   "metadata": {},
   "outputs": [
    {
     "data": {
      "text/plain": [
       "0.9526813880126183"
      ]
     },
     "execution_count": 64,
     "metadata": {},
     "output_type": "execute_result"
    }
   ],
   "source": [
    "((302)/(302+15)) # Detecção dos que podem ter acesso ao empréstimo\n",
    "\n",
    "# Maior que o undersampling"
   ]
  },
  {
   "cell_type": "code",
   "execution_count": 66,
   "id": "69eec65f",
   "metadata": {},
   "outputs": [
    {
     "data": {
      "text/plain": [
       "0.8888888888888888"
      ]
     },
     "execution_count": 66,
     "metadata": {},
     "output_type": "execute_result"
    }
   ],
   "source": [
    "((328)/(41+328)) # Detecção dos que não podem ter acesso ao empréstimo pois não pagam\n",
    "\n",
    "# Ouve uma queda no score, pois no undersampling conseguiu alcançar 91.11%"
   ]
  },
  {
   "cell_type": "code",
   "execution_count": null,
   "id": "dd20f95e",
   "metadata": {},
   "outputs": [],
   "source": []
  }
 ],
 "metadata": {
  "kernelspec": {
   "display_name": "Python 3",
   "language": "python",
   "name": "python3"
  },
  "language_info": {
   "codemirror_mode": {
    "name": "ipython",
    "version": 3
   },
   "file_extension": ".py",
   "mimetype": "text/x-python",
   "name": "python",
   "nbconvert_exporter": "python",
   "pygments_lexer": "ipython3",
   "version": "3.8.8"
  }
 },
 "nbformat": 4,
 "nbformat_minor": 5
}
